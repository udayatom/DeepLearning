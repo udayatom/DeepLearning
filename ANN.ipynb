{
  "nbformat": 4,
  "nbformat_minor": 0,
  "metadata": {
    "colab": {
      "provenance": [],
      "gpuType": "T4",
      "authorship_tag": "ABX9TyNzueNHdYax4GQxIgnrnGS3",
      "include_colab_link": true
    },
    "kernelspec": {
      "name": "python3",
      "display_name": "Python 3"
    },
    "language_info": {
      "name": "python"
    },
    "accelerator": "GPU"
  },
  "cells": [
    {
      "cell_type": "markdown",
      "metadata": {
        "id": "view-in-github",
        "colab_type": "text"
      },
      "source": [
        "<a href=\"https://colab.research.google.com/github/udayatom/DeepLearning/blob/main/ANN.ipynb\" target=\"_parent\"><img src=\"https://colab.research.google.com/assets/colab-badge.svg\" alt=\"Open In Colab\"/></a>"
      ]
    },
    {
      "cell_type": "code",
      "execution_count": null,
      "metadata": {
        "id": "0Mkls35nH4RH"
      },
      "outputs": [],
      "source": [
        "from google.colab import drive\n",
        "drive.mount('/content/drive')"
      ]
    },
    {
      "cell_type": "markdown",
      "source": [
        "# Part 1 - Data Preprocessing"
      ],
      "metadata": {
        "id": "Ys-vgZWTexm_"
      }
    },
    {
      "cell_type": "code",
      "source": [
        "import numpy as np\n",
        "import matplotlib.pyplot as plt\n",
        "import pandas as pd"
      ],
      "metadata": {
        "id": "yCUsX3VjKYEW"
      },
      "execution_count": 58,
      "outputs": []
    },
    {
      "cell_type": "markdown",
      "source": [
        "#Importing Dataset"
      ],
      "metadata": {
        "id": "ms4fIsjMMakC"
      }
    },
    {
      "cell_type": "code",
      "source": [
        "#https://github.com/sharmaroshan/Churn-Modelling-Dataset/blob/master/Churn_Modelling.csv\n",
        "dataset = pd.read_csv('/content/drive/MyDrive/Datasets/Churn_Modelling.csv')\n",
        "X = dataset.iloc[:,3:13]\n",
        "y = dataset.iloc[:,13]"
      ],
      "metadata": {
        "id": "FbPEzfJlJnFM"
      },
      "execution_count": 6,
      "outputs": []
    },
    {
      "cell_type": "markdown",
      "source": [
        "#Creating dummy variables"
      ],
      "metadata": {
        "id": "Eq4fk4nXMl4O"
      }
    },
    {
      "cell_type": "code",
      "source": [
        "#Geography and Gender are the categorical feature,\n",
        "geography = pd.get_dummies(X[\"Geography\"],drop_first=True)\n",
        "gender =pd.get_dummies(X[\"Gender\"],drop_first=True)"
      ],
      "metadata": {
        "id": "twIys6e_KvN9"
      },
      "execution_count": 9,
      "outputs": []
    },
    {
      "cell_type": "markdown",
      "source": [
        "#Concatinating the Dataframes"
      ],
      "metadata": {
        "id": "ChJBz2IyOFmI"
      }
    },
    {
      "cell_type": "code",
      "source": [
        "X = pd.concat([X,geography,gender],axis=1)"
      ],
      "metadata": {
        "id": "O31MWNUuMj7B"
      },
      "execution_count": 10,
      "outputs": []
    },
    {
      "cell_type": "markdown",
      "source": [
        "#Drop Unnecessary columns"
      ],
      "metadata": {
        "id": "1C6Ap2HfPTUk"
      }
    },
    {
      "cell_type": "code",
      "source": [
        "X=X.drop(['Geography','Gender'],axis =1)"
      ],
      "metadata": {
        "id": "oU1S6FpBOj6K"
      },
      "execution_count": 13,
      "outputs": []
    },
    {
      "cell_type": "markdown",
      "source": [
        "#Splitting Dataset into Train set & Test set"
      ],
      "metadata": {
        "id": "UDL5fvuWPp-z"
      }
    },
    {
      "cell_type": "code",
      "source": [
        "from sklearn.model_selection import train_test_split"
      ],
      "metadata": {
        "id": "Ppp3B8U1PuW9"
      },
      "execution_count": 15,
      "outputs": []
    },
    {
      "cell_type": "code",
      "source": [
        "X_train, X_test, Y_train, Y_test = train_test_split(X,y,test_size=0.2,random_state=0)"
      ],
      "metadata": {
        "id": "ipB0q2kbP4AQ"
      },
      "execution_count": 16,
      "outputs": []
    },
    {
      "cell_type": "code",
      "source": [
        "X_train.shape"
      ],
      "metadata": {
        "colab": {
          "base_uri": "https://localhost:8080/",
          "height": 0
        },
        "id": "_M7z3EF3QTis",
        "outputId": "86439d21-b0ee-4a80-819a-0bf3d8cef378"
      },
      "execution_count": 17,
      "outputs": [
        {
          "output_type": "execute_result",
          "data": {
            "text/plain": [
              "(8000, 11)"
            ]
          },
          "metadata": {},
          "execution_count": 17
        }
      ]
    },
    {
      "cell_type": "code",
      "source": [
        "Y_train.shape"
      ],
      "metadata": {
        "colab": {
          "base_uri": "https://localhost:8080/",
          "height": 0
        },
        "id": "qWjEythgQYjd",
        "outputId": "8def4ead-fb2b-4c0e-8b6f-20101f736571"
      },
      "execution_count": 18,
      "outputs": [
        {
          "output_type": "execute_result",
          "data": {
            "text/plain": [
              "(8000,)"
            ]
          },
          "metadata": {},
          "execution_count": 18
        }
      ]
    },
    {
      "cell_type": "markdown",
      "source": [
        "#Feature Scaling"
      ],
      "metadata": {
        "id": "m6hJydoBQj5U"
      }
    },
    {
      "cell_type": "code",
      "source": [
        "from sklearn.preprocessing import StandardScaler"
      ],
      "metadata": {
        "id": "tuypN9KlQbqz"
      },
      "execution_count": 20,
      "outputs": []
    },
    {
      "cell_type": "code",
      "source": [
        "sc = StandardScaler()"
      ],
      "metadata": {
        "id": "NNaH4zrLQeK_"
      },
      "execution_count": 21,
      "outputs": []
    },
    {
      "cell_type": "code",
      "source": [
        "X_train = sc.fit_transform(X_train)\n",
        "X_test = sc.transform(X_test)"
      ],
      "metadata": {
        "colab": {
          "base_uri": "https://localhost:8080/",
          "height": 0
        },
        "id": "Mhm76CV5Raeh",
        "outputId": "24e1172c-f89c-4798-f7ec-efe41f4f6f63"
      },
      "execution_count": 23,
      "outputs": [
        {
          "output_type": "stream",
          "name": "stderr",
          "text": [
            "/usr/local/lib/python3.10/dist-packages/sklearn/base.py:432: UserWarning: X has feature names, but StandardScaler was fitted without feature names\n",
            "  warnings.warn(\n"
          ]
        }
      ]
    },
    {
      "cell_type": "code",
      "source": [
        "X_train.shape"
      ],
      "metadata": {
        "colab": {
          "base_uri": "https://localhost:8080/",
          "height": 0
        },
        "id": "WuRUEWi-ReGR",
        "outputId": "1eed1302-6bf2-4ea5-de85-9b35d7583388"
      },
      "execution_count": 26,
      "outputs": [
        {
          "output_type": "execute_result",
          "data": {
            "text/plain": [
              "(8000, 11)"
            ]
          },
          "metadata": {},
          "execution_count": 26
        }
      ]
    },
    {
      "cell_type": "markdown",
      "source": [
        "## Part 2 - Creating ANN"
      ],
      "metadata": {
        "id": "6tJShDYAS4ox"
      }
    },
    {
      "cell_type": "code",
      "source": [
        "#importing libraries\n",
        "import keras\n",
        "from keras.models import Sequential# Responsible for creating the Neural Network, In ANN, CNN, RNN\n",
        "from keras.layers import Dense#Responsible for creating the hidden layer\n",
        "#from keras.layers import LeakyReLU,PReLU, ELU\n",
        "from keras.layers import Dropout"
      ],
      "metadata": {
        "id": "QQqRJIIiSpTM"
      },
      "execution_count": 32,
      "outputs": []
    },
    {
      "cell_type": "code",
      "source": [
        "#Initializing the ANN\n",
        "classifier = Sequential() # Empty neural network"
      ],
      "metadata": {
        "id": "1nXtVYCRS9iL"
      },
      "execution_count": 38,
      "outputs": []
    },
    {
      "cell_type": "markdown",
      "source": [
        "#Adding the input layer and hidden layer"
      ],
      "metadata": {
        "id": "nv2Lobn9WDhG"
      }
    },
    {
      "cell_type": "code",
      "source": [
        "\n",
        "classifier.add(Dense(units=6, kernel_initializer='he_uniform',activation='relu',input_dim=11))\n",
        "# Hidden layer neuron size\n",
        "# Weight initialization techinque is mentioned in kernel_initializer param(he_uniform is good relu)\n",
        "# Activate function\n",
        "# Input feature data size"
      ],
      "metadata": {
        "id": "lYOEKRE1TbAp"
      },
      "execution_count": 39,
      "outputs": []
    },
    {
      "cell_type": "markdown",
      "source": [
        "#Adding the second hidden layer"
      ],
      "metadata": {
        "id": "nEKPJdi3WI7d"
      }
    },
    {
      "cell_type": "code",
      "source": [
        "classifier.add(Dense(units=6,kernel_initializer='he_uniform',activation='relu'))"
      ],
      "metadata": {
        "id": "JXelEsO2UxmT"
      },
      "execution_count": 41,
      "outputs": []
    },
    {
      "cell_type": "markdown",
      "source": [
        "#Adding the output layer"
      ],
      "metadata": {
        "id": "lMc7WwkBWoeO"
      }
    },
    {
      "cell_type": "code",
      "source": [
        "classifier.add(Dense(units=1,kernel_initializer='glorot_uniform',activation='sigmoid'))"
      ],
      "metadata": {
        "id": "odbAEKOzWZm0"
      },
      "execution_count": 42,
      "outputs": []
    },
    {
      "cell_type": "markdown",
      "source": [
        "#NN Summary"
      ],
      "metadata": {
        "id": "r3LAaJaiYpg1"
      }
    },
    {
      "cell_type": "code",
      "source": [
        "classifier.summary()"
      ],
      "metadata": {
        "colab": {
          "base_uri": "https://localhost:8080/",
          "height": 0
        },
        "id": "Joj7vrltYtWV",
        "outputId": "cd2c655f-15c7-4a57-c9be-36b48a6f20fe"
      },
      "execution_count": 44,
      "outputs": [
        {
          "output_type": "stream",
          "name": "stdout",
          "text": [
            "Model: \"sequential_2\"\n",
            "_________________________________________________________________\n",
            " Layer (type)                Output Shape              Param #   \n",
            "=================================================================\n",
            " dense_2 (Dense)             (None, 6)                 72        \n",
            "                                                                 \n",
            " dense_3 (Dense)             (None, 6)                 42        \n",
            "                                                                 \n",
            " dense_4 (Dense)             (None, 1)                 7         \n",
            "                                                                 \n",
            "=================================================================\n",
            "Total params: 121 (484.00 Byte)\n",
            "Trainable params: 121 (484.00 Byte)\n",
            "Non-trainable params: 0 (0.00 Byte)\n",
            "_________________________________________________________________\n"
          ]
        }
      ]
    },
    {
      "cell_type": "markdown",
      "source": [
        "#Compiling the ANN"
      ],
      "metadata": {
        "id": "z3IQ5GdMYM_v"
      }
    },
    {
      "cell_type": "code",
      "source": [
        "classifier.compile(optimizer='adam',loss='binary_crossentropy',metrics=['accuracy'])"
      ],
      "metadata": {
        "id": "BYnBC_4IX49q"
      },
      "execution_count": 45,
      "outputs": []
    },
    {
      "cell_type": "markdown",
      "source": [
        "#Fitting the ANN to the Training set"
      ],
      "metadata": {
        "id": "jJnlE9VHZVZ0"
      }
    },
    {
      "cell_type": "code",
      "source": [
        "model_history = classifier.fit(X_train,Y_train,validation_split=0.33,batch_size=10,epochs=100)"
      ],
      "metadata": {
        "colab": {
          "base_uri": "https://localhost:8080/",
          "height": 0
        },
        "id": "SHIDB9ESZRny",
        "outputId": "37f6ec8b-b213-4449-c414-b39fa6faf05c"
      },
      "execution_count": 49,
      "outputs": [
        {
          "output_type": "stream",
          "name": "stdout",
          "text": [
            "Epoch 1/100\n",
            "536/536 [==============================] - 2s 4ms/step - loss: 0.3316 - accuracy: 0.8643 - val_loss: 0.3522 - val_accuracy: 0.8565\n",
            "Epoch 2/100\n",
            "536/536 [==============================] - 3s 5ms/step - loss: 0.3319 - accuracy: 0.8645 - val_loss: 0.3518 - val_accuracy: 0.8569\n",
            "Epoch 3/100\n",
            "536/536 [==============================] - 2s 4ms/step - loss: 0.3306 - accuracy: 0.8634 - val_loss: 0.3543 - val_accuracy: 0.8561\n",
            "Epoch 4/100\n",
            "536/536 [==============================] - 2s 4ms/step - loss: 0.3311 - accuracy: 0.8642 - val_loss: 0.3523 - val_accuracy: 0.8580\n",
            "Epoch 5/100\n",
            "536/536 [==============================] - 2s 4ms/step - loss: 0.3315 - accuracy: 0.8658 - val_loss: 0.3537 - val_accuracy: 0.8557\n",
            "Epoch 6/100\n",
            "536/536 [==============================] - 2s 4ms/step - loss: 0.3312 - accuracy: 0.8640 - val_loss: 0.3511 - val_accuracy: 0.8573\n",
            "Epoch 7/100\n",
            "536/536 [==============================] - 4s 7ms/step - loss: 0.3312 - accuracy: 0.8651 - val_loss: 0.3529 - val_accuracy: 0.8550\n",
            "Epoch 8/100\n",
            "536/536 [==============================] - 2s 4ms/step - loss: 0.3301 - accuracy: 0.8643 - val_loss: 0.3525 - val_accuracy: 0.8550\n",
            "Epoch 9/100\n",
            "536/536 [==============================] - 2s 4ms/step - loss: 0.3313 - accuracy: 0.8628 - val_loss: 0.3517 - val_accuracy: 0.8576\n",
            "Epoch 10/100\n",
            "536/536 [==============================] - 2s 4ms/step - loss: 0.3309 - accuracy: 0.8636 - val_loss: 0.3512 - val_accuracy: 0.8569\n",
            "Epoch 11/100\n",
            "536/536 [==============================] - 2s 4ms/step - loss: 0.3310 - accuracy: 0.8642 - val_loss: 0.3522 - val_accuracy: 0.8580\n",
            "Epoch 12/100\n",
            "536/536 [==============================] - 3s 5ms/step - loss: 0.3309 - accuracy: 0.8649 - val_loss: 0.3517 - val_accuracy: 0.8569\n",
            "Epoch 13/100\n",
            "536/536 [==============================] - 2s 4ms/step - loss: 0.3308 - accuracy: 0.8625 - val_loss: 0.3536 - val_accuracy: 0.8561\n",
            "Epoch 14/100\n",
            "536/536 [==============================] - 2s 4ms/step - loss: 0.3313 - accuracy: 0.8628 - val_loss: 0.3509 - val_accuracy: 0.8580\n",
            "Epoch 15/100\n",
            "536/536 [==============================] - 2s 4ms/step - loss: 0.3308 - accuracy: 0.8640 - val_loss: 0.3520 - val_accuracy: 0.8580\n",
            "Epoch 16/100\n",
            "536/536 [==============================] - 2s 4ms/step - loss: 0.3309 - accuracy: 0.8612 - val_loss: 0.3531 - val_accuracy: 0.8573\n",
            "Epoch 17/100\n",
            "536/536 [==============================] - 2s 5ms/step - loss: 0.3312 - accuracy: 0.8632 - val_loss: 0.3532 - val_accuracy: 0.8569\n",
            "Epoch 18/100\n",
            "536/536 [==============================] - 3s 5ms/step - loss: 0.3307 - accuracy: 0.8640 - val_loss: 0.3528 - val_accuracy: 0.8580\n",
            "Epoch 19/100\n",
            "536/536 [==============================] - 2s 4ms/step - loss: 0.3309 - accuracy: 0.8636 - val_loss: 0.3523 - val_accuracy: 0.8573\n",
            "Epoch 20/100\n",
            "536/536 [==============================] - 2s 4ms/step - loss: 0.3302 - accuracy: 0.8630 - val_loss: 0.3508 - val_accuracy: 0.8573\n",
            "Epoch 21/100\n",
            "536/536 [==============================] - 2s 4ms/step - loss: 0.3307 - accuracy: 0.8619 - val_loss: 0.3515 - val_accuracy: 0.8576\n",
            "Epoch 22/100\n",
            "536/536 [==============================] - 2s 4ms/step - loss: 0.3306 - accuracy: 0.8649 - val_loss: 0.3521 - val_accuracy: 0.8576\n",
            "Epoch 23/100\n",
            "536/536 [==============================] - 3s 6ms/step - loss: 0.3305 - accuracy: 0.8649 - val_loss: 0.3539 - val_accuracy: 0.8569\n",
            "Epoch 24/100\n",
            "536/536 [==============================] - 2s 5ms/step - loss: 0.3301 - accuracy: 0.8634 - val_loss: 0.3612 - val_accuracy: 0.8508\n",
            "Epoch 25/100\n",
            "536/536 [==============================] - 2s 5ms/step - loss: 0.3311 - accuracy: 0.8658 - val_loss: 0.3526 - val_accuracy: 0.8557\n",
            "Epoch 26/100\n",
            "536/536 [==============================] - 2s 4ms/step - loss: 0.3303 - accuracy: 0.8634 - val_loss: 0.3529 - val_accuracy: 0.8569\n",
            "Epoch 27/100\n",
            "536/536 [==============================] - 2s 4ms/step - loss: 0.3303 - accuracy: 0.8647 - val_loss: 0.3534 - val_accuracy: 0.8569\n",
            "Epoch 28/100\n",
            "536/536 [==============================] - 3s 6ms/step - loss: 0.3306 - accuracy: 0.8643 - val_loss: 0.3519 - val_accuracy: 0.8565\n",
            "Epoch 29/100\n",
            "536/536 [==============================] - 2s 4ms/step - loss: 0.3304 - accuracy: 0.8643 - val_loss: 0.3499 - val_accuracy: 0.8599\n",
            "Epoch 30/100\n",
            "536/536 [==============================] - 2s 4ms/step - loss: 0.3304 - accuracy: 0.8649 - val_loss: 0.3512 - val_accuracy: 0.8561\n",
            "Epoch 31/100\n",
            "536/536 [==============================] - 2s 4ms/step - loss: 0.3299 - accuracy: 0.8625 - val_loss: 0.3518 - val_accuracy: 0.8591\n",
            "Epoch 32/100\n",
            "536/536 [==============================] - 2s 4ms/step - loss: 0.3300 - accuracy: 0.8640 - val_loss: 0.3508 - val_accuracy: 0.8576\n",
            "Epoch 33/100\n",
            "536/536 [==============================] - 4s 7ms/step - loss: 0.3300 - accuracy: 0.8630 - val_loss: 0.3519 - val_accuracy: 0.8580\n",
            "Epoch 34/100\n",
            "536/536 [==============================] - 2s 4ms/step - loss: 0.3296 - accuracy: 0.8645 - val_loss: 0.3566 - val_accuracy: 0.8523\n",
            "Epoch 35/100\n",
            "536/536 [==============================] - 2s 4ms/step - loss: 0.3303 - accuracy: 0.8636 - val_loss: 0.3502 - val_accuracy: 0.8576\n",
            "Epoch 36/100\n",
            "536/536 [==============================] - 2s 4ms/step - loss: 0.3296 - accuracy: 0.8656 - val_loss: 0.3507 - val_accuracy: 0.8599\n",
            "Epoch 37/100\n",
            "536/536 [==============================] - 2s 5ms/step - loss: 0.3296 - accuracy: 0.8647 - val_loss: 0.3510 - val_accuracy: 0.8565\n",
            "Epoch 38/100\n",
            "536/536 [==============================] - 3s 6ms/step - loss: 0.3294 - accuracy: 0.8660 - val_loss: 0.3535 - val_accuracy: 0.8554\n",
            "Epoch 39/100\n",
            "536/536 [==============================] - 2s 4ms/step - loss: 0.3298 - accuracy: 0.8645 - val_loss: 0.3507 - val_accuracy: 0.8591\n",
            "Epoch 40/100\n",
            "536/536 [==============================] - 2s 4ms/step - loss: 0.3297 - accuracy: 0.8649 - val_loss: 0.3519 - val_accuracy: 0.8588\n",
            "Epoch 41/100\n",
            "536/536 [==============================] - 2s 4ms/step - loss: 0.3296 - accuracy: 0.8630 - val_loss: 0.3513 - val_accuracy: 0.8576\n",
            "Epoch 42/100\n",
            "536/536 [==============================] - 2s 4ms/step - loss: 0.3299 - accuracy: 0.8634 - val_loss: 0.3500 - val_accuracy: 0.8588\n",
            "Epoch 43/100\n",
            "536/536 [==============================] - 3s 6ms/step - loss: 0.3297 - accuracy: 0.8638 - val_loss: 0.3515 - val_accuracy: 0.8580\n",
            "Epoch 44/100\n",
            "536/536 [==============================] - 2s 4ms/step - loss: 0.3292 - accuracy: 0.8649 - val_loss: 0.3523 - val_accuracy: 0.8542\n",
            "Epoch 45/100\n",
            "536/536 [==============================] - 2s 4ms/step - loss: 0.3297 - accuracy: 0.8651 - val_loss: 0.3524 - val_accuracy: 0.8565\n",
            "Epoch 46/100\n",
            "536/536 [==============================] - 2s 4ms/step - loss: 0.3291 - accuracy: 0.8658 - val_loss: 0.3506 - val_accuracy: 0.8599\n",
            "Epoch 47/100\n",
            "536/536 [==============================] - 2s 4ms/step - loss: 0.3289 - accuracy: 0.8628 - val_loss: 0.3507 - val_accuracy: 0.8607\n",
            "Epoch 48/100\n",
            "536/536 [==============================] - 3s 5ms/step - loss: 0.3294 - accuracy: 0.8668 - val_loss: 0.3522 - val_accuracy: 0.8569\n",
            "Epoch 49/100\n",
            "536/536 [==============================] - 3s 5ms/step - loss: 0.3288 - accuracy: 0.8638 - val_loss: 0.3510 - val_accuracy: 0.8573\n",
            "Epoch 50/100\n",
            "536/536 [==============================] - 2s 5ms/step - loss: 0.3296 - accuracy: 0.8636 - val_loss: 0.3513 - val_accuracy: 0.8580\n",
            "Epoch 51/100\n",
            "536/536 [==============================] - 2s 4ms/step - loss: 0.3292 - accuracy: 0.8647 - val_loss: 0.3511 - val_accuracy: 0.8573\n",
            "Epoch 52/100\n",
            "536/536 [==============================] - 2s 5ms/step - loss: 0.3286 - accuracy: 0.8647 - val_loss: 0.3512 - val_accuracy: 0.8584\n",
            "Epoch 53/100\n",
            "536/536 [==============================] - 3s 5ms/step - loss: 0.3290 - accuracy: 0.8645 - val_loss: 0.3502 - val_accuracy: 0.8595\n",
            "Epoch 54/100\n",
            "536/536 [==============================] - 2s 5ms/step - loss: 0.3285 - accuracy: 0.8662 - val_loss: 0.3537 - val_accuracy: 0.8527\n",
            "Epoch 55/100\n",
            "536/536 [==============================] - 2s 4ms/step - loss: 0.3293 - accuracy: 0.8640 - val_loss: 0.3526 - val_accuracy: 0.8550\n",
            "Epoch 56/100\n",
            "536/536 [==============================] - 2s 4ms/step - loss: 0.3289 - accuracy: 0.8647 - val_loss: 0.3512 - val_accuracy: 0.8599\n",
            "Epoch 57/100\n",
            "536/536 [==============================] - 2s 4ms/step - loss: 0.3286 - accuracy: 0.8651 - val_loss: 0.3512 - val_accuracy: 0.8554\n",
            "Epoch 58/100\n",
            "536/536 [==============================] - 3s 6ms/step - loss: 0.3287 - accuracy: 0.8638 - val_loss: 0.3520 - val_accuracy: 0.8565\n",
            "Epoch 59/100\n",
            "536/536 [==============================] - 3s 5ms/step - loss: 0.3289 - accuracy: 0.8630 - val_loss: 0.3518 - val_accuracy: 0.8576\n",
            "Epoch 60/100\n",
            "536/536 [==============================] - 2s 4ms/step - loss: 0.3290 - accuracy: 0.8653 - val_loss: 0.3520 - val_accuracy: 0.8588\n",
            "Epoch 61/100\n",
            "536/536 [==============================] - 2s 4ms/step - loss: 0.3289 - accuracy: 0.8636 - val_loss: 0.3516 - val_accuracy: 0.8569\n",
            "Epoch 62/100\n",
            "536/536 [==============================] - 2s 4ms/step - loss: 0.3284 - accuracy: 0.8643 - val_loss: 0.3507 - val_accuracy: 0.8573\n",
            "Epoch 63/100\n",
            "536/536 [==============================] - 3s 5ms/step - loss: 0.3285 - accuracy: 0.8640 - val_loss: 0.3505 - val_accuracy: 0.8569\n",
            "Epoch 64/100\n",
            "536/536 [==============================] - 3s 6ms/step - loss: 0.3286 - accuracy: 0.8658 - val_loss: 0.3513 - val_accuracy: 0.8561\n",
            "Epoch 65/100\n",
            "536/536 [==============================] - 2s 4ms/step - loss: 0.3288 - accuracy: 0.8628 - val_loss: 0.3523 - val_accuracy: 0.8569\n",
            "Epoch 66/100\n",
            "536/536 [==============================] - 2s 4ms/step - loss: 0.3283 - accuracy: 0.8634 - val_loss: 0.3531 - val_accuracy: 0.8557\n",
            "Epoch 67/100\n",
            "536/536 [==============================] - 2s 4ms/step - loss: 0.3285 - accuracy: 0.8655 - val_loss: 0.3534 - val_accuracy: 0.8591\n",
            "Epoch 68/100\n",
            "536/536 [==============================] - 2s 4ms/step - loss: 0.3288 - accuracy: 0.8656 - val_loss: 0.3503 - val_accuracy: 0.8576\n",
            "Epoch 69/100\n",
            "536/536 [==============================] - 3s 6ms/step - loss: 0.3287 - accuracy: 0.8653 - val_loss: 0.3514 - val_accuracy: 0.8580\n",
            "Epoch 70/100\n",
            "536/536 [==============================] - 2s 4ms/step - loss: 0.3292 - accuracy: 0.8668 - val_loss: 0.3508 - val_accuracy: 0.8573\n",
            "Epoch 71/100\n",
            "536/536 [==============================] - 2s 4ms/step - loss: 0.3281 - accuracy: 0.8632 - val_loss: 0.3520 - val_accuracy: 0.8591\n",
            "Epoch 72/100\n",
            "536/536 [==============================] - 2s 4ms/step - loss: 0.3288 - accuracy: 0.8668 - val_loss: 0.3513 - val_accuracy: 0.8576\n",
            "Epoch 73/100\n",
            "536/536 [==============================] - 2s 4ms/step - loss: 0.3280 - accuracy: 0.8640 - val_loss: 0.3509 - val_accuracy: 0.8569\n",
            "Epoch 74/100\n",
            "536/536 [==============================] - 3s 6ms/step - loss: 0.3286 - accuracy: 0.8655 - val_loss: 0.3543 - val_accuracy: 0.8580\n",
            "Epoch 75/100\n",
            "536/536 [==============================] - 2s 4ms/step - loss: 0.3291 - accuracy: 0.8627 - val_loss: 0.3506 - val_accuracy: 0.8573\n",
            "Epoch 76/100\n",
            "536/536 [==============================] - 2s 4ms/step - loss: 0.3284 - accuracy: 0.8645 - val_loss: 0.3522 - val_accuracy: 0.8554\n",
            "Epoch 77/100\n",
            "536/536 [==============================] - 2s 4ms/step - loss: 0.3288 - accuracy: 0.8649 - val_loss: 0.3504 - val_accuracy: 0.8584\n",
            "Epoch 78/100\n",
            "536/536 [==============================] - 2s 4ms/step - loss: 0.3279 - accuracy: 0.8656 - val_loss: 0.3510 - val_accuracy: 0.8569\n",
            "Epoch 79/100\n",
            "536/536 [==============================] - 3s 5ms/step - loss: 0.3280 - accuracy: 0.8662 - val_loss: 0.3543 - val_accuracy: 0.8569\n",
            "Epoch 80/100\n",
            "536/536 [==============================] - 2s 4ms/step - loss: 0.3280 - accuracy: 0.8664 - val_loss: 0.3506 - val_accuracy: 0.8595\n",
            "Epoch 81/100\n",
            "536/536 [==============================] - 2s 4ms/step - loss: 0.3289 - accuracy: 0.8656 - val_loss: 0.3503 - val_accuracy: 0.8588\n",
            "Epoch 82/100\n",
            "536/536 [==============================] - 2s 4ms/step - loss: 0.3280 - accuracy: 0.8636 - val_loss: 0.3514 - val_accuracy: 0.8584\n",
            "Epoch 83/100\n",
            "536/536 [==============================] - 2s 4ms/step - loss: 0.3287 - accuracy: 0.8658 - val_loss: 0.3511 - val_accuracy: 0.8565\n",
            "Epoch 84/100\n",
            "536/536 [==============================] - 2s 5ms/step - loss: 0.3289 - accuracy: 0.8647 - val_loss: 0.3525 - val_accuracy: 0.8565\n",
            "Epoch 85/100\n",
            "536/536 [==============================] - 3s 5ms/step - loss: 0.3275 - accuracy: 0.8643 - val_loss: 0.3515 - val_accuracy: 0.8573\n",
            "Epoch 86/100\n",
            "536/536 [==============================] - 2s 4ms/step - loss: 0.3284 - accuracy: 0.8653 - val_loss: 0.3512 - val_accuracy: 0.8573\n",
            "Epoch 87/100\n",
            "536/536 [==============================] - 2s 4ms/step - loss: 0.3288 - accuracy: 0.8651 - val_loss: 0.3510 - val_accuracy: 0.8595\n",
            "Epoch 88/100\n",
            "536/536 [==============================] - 2s 4ms/step - loss: 0.3281 - accuracy: 0.8664 - val_loss: 0.3515 - val_accuracy: 0.8591\n",
            "Epoch 89/100\n",
            "536/536 [==============================] - 2s 4ms/step - loss: 0.3280 - accuracy: 0.8655 - val_loss: 0.3509 - val_accuracy: 0.8599\n",
            "Epoch 90/100\n",
            "536/536 [==============================] - 3s 5ms/step - loss: 0.3274 - accuracy: 0.8655 - val_loss: 0.3520 - val_accuracy: 0.8573\n",
            "Epoch 91/100\n",
            "536/536 [==============================] - 2s 4ms/step - loss: 0.3284 - accuracy: 0.8655 - val_loss: 0.3508 - val_accuracy: 0.8595\n",
            "Epoch 92/100\n",
            "536/536 [==============================] - 2s 4ms/step - loss: 0.3277 - accuracy: 0.8651 - val_loss: 0.3536 - val_accuracy: 0.8569\n",
            "Epoch 93/100\n",
            "536/536 [==============================] - 2s 4ms/step - loss: 0.3282 - accuracy: 0.8660 - val_loss: 0.3527 - val_accuracy: 0.8576\n",
            "Epoch 94/100\n",
            "536/536 [==============================] - 2s 4ms/step - loss: 0.3276 - accuracy: 0.8656 - val_loss: 0.3534 - val_accuracy: 0.8546\n",
            "Epoch 95/100\n",
            "536/536 [==============================] - 3s 6ms/step - loss: 0.3286 - accuracy: 0.8653 - val_loss: 0.3504 - val_accuracy: 0.8561\n",
            "Epoch 96/100\n",
            "536/536 [==============================] - 2s 4ms/step - loss: 0.3280 - accuracy: 0.8645 - val_loss: 0.3496 - val_accuracy: 0.8576\n",
            "Epoch 97/100\n",
            "536/536 [==============================] - 2s 4ms/step - loss: 0.3277 - accuracy: 0.8666 - val_loss: 0.3503 - val_accuracy: 0.8561\n",
            "Epoch 98/100\n",
            "536/536 [==============================] - 2s 5ms/step - loss: 0.3278 - accuracy: 0.8649 - val_loss: 0.3513 - val_accuracy: 0.8569\n",
            "Epoch 99/100\n",
            "536/536 [==============================] - 2s 4ms/step - loss: 0.3286 - accuracy: 0.8632 - val_loss: 0.3510 - val_accuracy: 0.8576\n",
            "Epoch 100/100\n",
            "536/536 [==============================] - 4s 7ms/step - loss: 0.3280 - accuracy: 0.8656 - val_loss: 0.3498 - val_accuracy: 0.8584\n"
          ]
        }
      ]
    },
    {
      "cell_type": "markdown",
      "source": [
        "#List all data in history"
      ],
      "metadata": {
        "id": "HUQ8QZEvbgHI"
      }
    },
    {
      "cell_type": "code",
      "source": [
        "print(model_history.history.keys())"
      ],
      "metadata": {
        "colab": {
          "base_uri": "https://localhost:8080/",
          "height": 0
        },
        "id": "V70MWVIBZ6Bb",
        "outputId": "a348d9a1-25e2-4a45-84cd-430bb771540a"
      },
      "execution_count": 54,
      "outputs": [
        {
          "output_type": "stream",
          "name": "stdout",
          "text": [
            "dict_keys(['loss', 'accuracy', 'val_loss', 'val_accuracy'])\n"
          ]
        }
      ]
    },
    {
      "cell_type": "code",
      "source": [
        "# summarize history for accuracy\n",
        "plt.plot(model_history.history['accuracy'])\n",
        "plt.plot(model_history.history['val_accuracy'])\n",
        "plt.title('model accuracy')\n",
        "plt.ylabel('accuracy')\n",
        "plt.xlabel('epoch')\n",
        "plt.legend(['train', 'test'], loc='upper left')\n",
        "plt.show()"
      ],
      "metadata": {
        "colab": {
          "base_uri": "https://localhost:8080/",
          "height": 472
        },
        "id": "BmRoLedCc7pe",
        "outputId": "82b830a0-3e3c-4c92-ff2d-f02df5f0df1d"
      },
      "execution_count": 56,
      "outputs": [
        {
          "output_type": "display_data",
          "data": {
            "text/plain": [
              "<Figure size 640x480 with 1 Axes>"
            ],
            "image/png": "[encoded data removed]"
          },
          "metadata": {}
        }
      ]
    },
    {
      "cell_type": "code",
      "source": [
        "# summarize history for loss\n",
        "plt.plot(model_history.history['loss'])\n",
        "plt.plot(model_history.history['val_loss'])\n",
        "plt.title('model loss')\n",
        "plt.ylabel('loss')\n",
        "plt.xlabel('epoch')\n",
        "plt.legend(['train', 'test'], loc='upper left')\n",
        "plt.show()"
      ],
      "metadata": {
        "colab": {
          "base_uri": "https://localhost:8080/",
          "height": 472
        },
        "id": "fIe7J_xheL-V",
        "outputId": "aca3d1d1-d3a3-4684-cfe6-68c8c0f1ee02"
      },
      "execution_count": 57,
      "outputs": [
        {
          "output_type": "display_data",
          "data": {
            "text/plain": [
              "<Figure size 640x480 with 1 Axes>"
            ],
            "image/png": "[encoded data removed]"
          },
          "metadata": {}
        }
      ]
    },
    {
      "cell_type": "markdown",
      "source": [
        "# Part 3 - Making the predictions and evaluating the model\n"
      ],
      "metadata": {
        "id": "jf9DYaT4fGF3"
      }
    },
    {
      "cell_type": "code",
      "source": [
        "# Predicting the Test set results\n",
        "y_pred = classifier.predict(X_test)"
      ],
      "metadata": {
        "colab": {
          "base_uri": "https://localhost:8080/",
          "height": 0
        },
        "id": "2xaYq-Opehgw",
        "outputId": "c098b339-aa91-4cf3-9ca2-4e0ca7c00bef"
      },
      "execution_count": 59,
      "outputs": [
        {
          "output_type": "stream",
          "name": "stdout",
          "text": [
            "63/63 [==============================] - 0s 2ms/step\n"
          ]
        }
      ]
    },
    {
      "cell_type": "code",
      "source": [
        "y_pred = (y_pred > 0.5)"
      ],
      "metadata": {
        "id": "AJ3gWj-xfQF6"
      },
      "execution_count": 60,
      "outputs": []
    },
    {
      "cell_type": "code",
      "source": [
        "# Making the Confusion Matrix\n",
        "from sklearn.metrics import confusion_matrix\n",
        "cm = confusion_matrix(Y_test, y_pred)"
      ],
      "metadata": {
        "id": "Z3Ms6V8kfYYp"
      },
      "execution_count": 66,
      "outputs": []
    },
    {
      "cell_type": "code",
      "source": [
        "cm"
      ],
      "metadata": {
        "colab": {
          "base_uri": "https://localhost:8080/",
          "height": 0
        },
        "id": "IwYfPDCGf8tn",
        "outputId": "282b1eab-b54a-4e6c-88c6-a5e76811be2d"
      },
      "execution_count": 67,
      "outputs": [
        {
          "output_type": "execute_result",
          "data": {
            "text/plain": [
              "array([[605, 990],\n",
              "       [100, 305]])"
            ]
          },
          "metadata": {},
          "execution_count": 67
        }
      ]
    },
    {
      "cell_type": "code",
      "source": [
        "# Calculate the Accuracy\n",
        "from sklearn.metrics import accuracy_score\n",
        "score=accuracy_score(y_pred,Y_test)"
      ],
      "metadata": {
        "id": "V_8-9WzBfcu3"
      },
      "execution_count": 64,
      "outputs": []
    },
    {
      "cell_type": "code",
      "source": [
        "score"
      ],
      "metadata": {
        "colab": {
          "base_uri": "https://localhost:8080/",
          "height": 0
        },
        "id": "dZNGEH-KfkAE",
        "outputId": "ad3455a0-444b-4473-df11-1614cc0e3527"
      },
      "execution_count": 65,
      "outputs": [
        {
          "output_type": "execute_result",
          "data": {
            "text/plain": [
              "0.455"
            ]
          },
          "metadata": {},
          "execution_count": 65
        }
      ]
    },
    {
      "cell_type": "code",
      "source": [],
      "metadata": {
        "id": "ZVXSIpwof5OX"
      },
      "execution_count": null,
      "outputs": []
    }
  ]
}